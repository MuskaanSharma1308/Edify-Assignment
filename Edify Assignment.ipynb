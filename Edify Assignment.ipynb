{
 "cells": [
  {
   "cell_type": "code",
   "execution_count": 4,
   "id": "73e4866c",
   "metadata": {},
   "outputs": [
    {
     "name": "stdout",
     "output_type": "stream",
     "text": [
      "True\n",
      "True\n"
     ]
    }
   ],
   "source": [
    "#Implement a function to check if a given string is a palindrome.\n",
    "def is_palindrome(s):\n",
    "    return s.lower() == s.lower()[::-1] # this will directly convert the text into lower case and then it will check if it palindrome or not \n",
    "\n",
    "# Test the function\n",
    "print(is_palindrome(\"Malyalam\"))  # True\n",
    "print(is_palindrome(\"Wow\"))        # True\n",
    "\n"
   ]
  },
  {
   "cell_type": "code",
   "execution_count": 6,
   "id": "cefeed77",
   "metadata": {},
   "outputs": [
    {
     "name": "stdout",
     "output_type": "stream",
     "text": [
      "[1, 2, 3, 4, 5]\n"
     ]
    }
   ],
   "source": [
    "#Write a function that takes an array of integers and returns a new array with only the unique values.\n",
    "def unique_vals(arr):\n",
    "    return list(set(arr)) #it will  convert the array into list and then the set dunction will provide unique values\n",
    "    \n",
    "\n",
    "print(unique_vals([1, 2, 2, 3, 4, 4, 5]))  \n"
   ]
  },
  {
   "cell_type": "code",
   "execution_count": 8,
   "id": "645a413e",
   "metadata": {},
   "outputs": [
    {
     "name": "stdout",
     "output_type": "stream",
     "text": [
      "1\n"
     ]
    }
   ],
   "source": [
    "#Implement a recursive function to calculate the factorial of a number.\n",
    "def factorial(n):\n",
    "    return 1 if n == 0 or n<0 else n * factorial(n - 1) # if -else condition is used in this case\n",
    "\n",
    "\n",
    "print(factorial(-1))  "
   ]
  },
  {
   "cell_type": "code",
   "execution_count": null,
   "id": "7af45bf9",
   "metadata": {},
   "outputs": [],
   "source": []
  }
 ],
 "metadata": {
  "kernelspec": {
   "display_name": "Python 3 (ipykernel)",
   "language": "python",
   "name": "python3"
  },
  "language_info": {
   "codemirror_mode": {
    "name": "ipython",
    "version": 3
   },
   "file_extension": ".py",
   "mimetype": "text/x-python",
   "name": "python",
   "nbconvert_exporter": "python",
   "pygments_lexer": "ipython3",
   "version": "3.11.4"
  }
 },
 "nbformat": 4,
 "nbformat_minor": 5
}
